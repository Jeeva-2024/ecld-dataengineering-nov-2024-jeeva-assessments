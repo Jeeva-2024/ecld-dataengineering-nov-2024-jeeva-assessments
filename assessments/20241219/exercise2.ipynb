{
 "cells": [
  {
   "cell_type": "code",
   "execution_count": null,
   "metadata": {
    "vscode": {
     "languageId": "plaintext"
    }
   },
   "outputs": [],
   "source": [
    "import pandas as pd"
   ]
  },
  {
   "cell_type": "code",
   "execution_count": null,
   "metadata": {
    "vscode": {
     "languageId": "plaintext"
    }
   },
   "outputs": [],
   "source": [
    "column_names = data.columns\n",
    "print(column_names)"
   ]
  },
  {
   "cell_type": "code",
   "execution_count": null,
   "metadata": {
    "vscode": {
     "languageId": "plaintext"
    }
   },
   "outputs": [],
   "source": [
    "agg_fn = {\n",
    "    \"type\": lambda x: \"; \".join(sorted(x.unique())),\n",
    "    \"required\": lambda x: \"; \".join(x.astype(str)),\n",
    "    \n",
    "}\n",
    "print(\"before agg\")\n",
    "print(df)\n",
    "\n",
    "\n",
    "df = df.groupby(\"\", as_index=False).agg(agg_fn)\n",
    "\n",
    "print(\"after agg\")\n",
    "print(df)"
   ]
  },
  {
   "cell_type": "code",
   "execution_count": null,
   "metadata": {
    "vscode": {
     "languageId": "plaintext"
    }
   },
   "outputs": [],
   "source": [
    "table_a['name'] = table_a['name'].map(\n",
    "                              dept_mapping.set_index('').idxmax(1))"
   ]
  },
  {
   "cell_type": "code",
   "execution_count": null,
   "metadata": {
    "vscode": {
     "languageId": "plaintext"
    }
   },
   "outputs": [],
   "source": [
    "indexed_df = df.copy().set_index('required')\n",
    "test = indexed_df.filter(lambda x: x['required'] == True)"
   ]
  }
 ],
 "metadata": {
  "language_info": {
   "name": "python"
  }
 },
 "nbformat": 4,
 "nbformat_minor": 2
}
