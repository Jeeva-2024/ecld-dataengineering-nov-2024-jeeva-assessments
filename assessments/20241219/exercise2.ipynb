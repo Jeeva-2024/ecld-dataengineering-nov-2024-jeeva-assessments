{
 "cells": [
  {
   "cell_type": "code",
   "execution_count": null,
   "metadata": {
    "vscode": {
     "languageId": "plaintext"
    }
   },
   "outputs": [],
   "source": [
    "import json\n",
    "\n"
   ]
  },
  {
   "cell_type": "code",
   "execution_count": null,
   "metadata": {
    "vscode": {
     "languageId": "plaintext"
    }
   },
   "outputs": [],
   "source": [
    "#Create a function that extracts column details from the schema file\n",
    "def extract_column_details(schema_file):\n",
    "\n",
    "    with open(schema_file, 'r') as f:\n",
    "        schema = json.load(f)\n",
    "\n",
    "    table_columns = {}\n",
    "    for table in schema['tables']:\n",
    "        table_columns[table['name']] = [\n",
    "            {\n",
    "                \"name\": col['name'],\n",
    "                \"type\": col['type'],\n",
    "                \"required\": col.get('required', False),\n",
    "                \"validation\": col.get('validation', {})\n",
    "            } for col in table['columns']\n",
    "        ]\n",
    "    return table_columns"
   ]
  },
  {
   "cell_type": "code",
   "execution_count": null,
   "metadata": {
    "vscode": {
     "languageId": "plaintext"
    }
   },
   "outputs": [],
   "source": [
    "#Create a validation function \n",
    "def validate_data(data, table_schema):\n",
    "    errors = []\n",
    "\n",
    "    \n",
    "    for row in data:\n",
    "        for col in table_schema:\n",
    "            col_name = col['name']\n",
    "            col_type = col['type']\n",
    "            col_required = col['required']\n",
    "\n",
    "            \n",
    "            if col_required and col_name not in row:\n",
    "                errors.append({\n",
    "                    \"severity\": \"high\",\n",
    "                    \"table\": col.get('table_name', 'unknown'),\n",
    "                    \"column\": col_name,\n",
    "                    \"error\": \"Missing required column\"\n",
    "                })\n",
    "                continue\n",
    "\n",
    "            \n",
    "            if col_name in row and not isinstance(row[col_name], col_type):\n",
    "                errors.append({\n",
    "                    \"severity\": \"medium\",\n",
    "                    \"table\": col.get('table_name', 'unknown'),\n",
    "                    \"column\": col_name,\n",
    "                    \"error\": \"Incorrect data type\"\n",
    "                })\n",
    "\n",
    "            \n",
    "            if 'validation' in col:\n",
    "                for rule, value in col['validation'].items():\n",
    "                    if rule == 'min_length' and len(row[col_name]) < value:\n",
    "                        errors.append({\n",
    "                            \"severity\": \"low\",\n",
    "                            \"table\": col.get('table_name', 'unknown'),\n",
    "                            \"column\": col_name,\n",
    "                            \"error\": f\"Length is less than {value}\"\n",
    "                        })\n",
    "\n",
    "    return errors\n"
   ]
  },
  {
   "cell_type": "code",
   "execution_count": null,
   "metadata": {
    "vscode": {
     "languageId": "plaintext"
    }
   },
   "outputs": [],
   "source": [
    " #Create a function that sorts validation errors\n",
    " def sort_validation_errors(errors):\n",
    "    sorted_errors = sorted(errors, key=lambda x: (x['severity'], x['table'], x['column']))\n",
    "    return sorted_errors"
   ]
  },
  {
   "cell_type": "code",
   "execution_count": null,
   "metadata": {
    "vscode": {
     "languageId": "plaintext"
    }
   },
   "outputs": [],
   "source": []
  },
  {
   "cell_type": "code",
   "execution_count": null,
   "metadata": {
    "vscode": {
     "languageId": "plaintext"
    }
   },
   "outputs": [],
   "source": []
  }
 ],
 "metadata": {
  "language_info": {
   "name": "python"
  }
 },
 "nbformat": 4,
 "nbformat_minor": 2
}
