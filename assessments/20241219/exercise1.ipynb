{
 "cells": [
  {
   "cell_type": "code",
   "execution_count": null,
   "metadata": {
    "vscode": {
     "languageId": "plaintext"
    }
   },
   "outputs": [],
   "source": [
    "import json\n",
    "from itertools import chain"
   ]
  },
  {
   "cell_type": "code",
   "execution_count": null,
   "metadata": {
    "vscode": {
     "languageId": "plaintext"
    }
   },
   "outputs": [],
   "source": [
    "json_file=json.load(open('sample-dataset-1.json'))\n",
    "json_file"
   ]
  },
  {
   "cell_type": "code",
   "execution_count": null,
   "metadata": {
    "vscode": {
     "languageId": "plaintext"
    }
   },
   "outputs": [],
   "source": [
    "res = len([ele for ele in json_file if isinstance(ele, dict)])\n",
    "print(\"The Dictionary count : \" + str(res))"
   ]
  },
  {
   "cell_type": "code",
   "execution_count": null,
   "metadata": {
    "vscode": {
     "languageId": "plaintext"
    }
   },
   "outputs": [],
   "source": [
    "for dic in json_file:\n",
    "    for key in dic:\n",
    "        dict=print(dic[key])"
   ]
  },
  {
   "cell_type": "code",
   "execution_count": null,
   "metadata": {
    "vscode": {
     "languageId": "plaintext"
    }
   },
   "outputs": [],
   "source": [
    "type(json_file)"
   ]
  },
  {
   "cell_type": "code",
   "execution_count": null,
   "metadata": {
    "vscode": {
     "languageId": "plaintext"
    }
   },
   "outputs": [],
   "source": [
    "#1.Create a function that filters log entries \n",
    "def filter_logs(json_file):\n",
    "  \n",
    "    high_priority = list(filter(lambda x: x[\"status\"] == \"warning\" and x[\"priority\"] == \"high\", json_file))\n",
    "    high_cpu_servers = [x[\"server_id\"] for x in json_file if x[\"event_type\"] == \"performance\" and x[\"metrics\"][\"cpu_usage\"] > 80]\n",
    "    return high_priority,f\" Servers with high CPU usage are {high_cpu_servers}\" "
   ]
  },
  {
   "cell_type": "code",
   "execution_count": null,
   "metadata": {
    "vscode": {
     "languageId": "plaintext"
    }
   },
   "outputs": [],
   "source": [
    "#2.Create a function that extracts unique server IDs using map() and set()\n",
    "def unique_server_ids(logs):\n",
    "  \n",
    "    unique_server_ids = set(map(lambda x: x[\"server_id\"], logs))\n",
    "    return unique_server_ids\n",
    "    "
   ]
  },
  {
   "cell_type": "code",
   "execution_count": null,
   "metadata": {
    "vscode": {
     "languageId": "plaintext"
    }
   },
   "outputs": [],
   "source": [
    "#3.Create a function that sorts the log entries\n",
    "def sorted_entries(logs):\n",
    "    sorted_logs = sorted(logs, key=lambda x: (x[\"timestamp\"], x[\"priority\"]))\n",
    "    return sorted_logs\n"
   ]
  },
  {
   "cell_type": "code",
   "execution_count": null,
   "metadata": {
    "vscode": {
     "languageId": "plaintext"
    }
   },
   "outputs": [],
   "source": [
    "#4.Create a function that generates a summary report\n",
    "\n",
    "def sorted_entries(logs):\n",
    "  \n",
    "    sorted_logs = sorted(logs, key=lambda x: (x[\"timestamp\"], x[\"priority\"]))\n",
    "    return sorted_logs\n",
    "    "
   ]
  },
  {
   "cell_type": "code",
   "execution_count": null,
   "metadata": {
    "vscode": {
     "languageId": "plaintext"
    }
   },
   "outputs": [],
   "source": [
    "#Bonus: Create a function that generates a summary report showing\n",
    "\n",
    "\n",
    "def generate_summary_report(logs):\n",
    "    priority_counts = {}\n",
    "    event_types = set()\n",
    "    total_cpu = 0\n",
    "    valid_log_count = 0\n",
    "\n",
    "    for entry in logs:\n",
    "      if entry:\n",
    "        priority = entry.get('priority', 'unknown')\n",
    "        priority_counts[priority] = priority_counts.get(priority, 0) + 1\n",
    "        event_types.add(entry.get('event_type'))\n",
    "        cpu_usage = entry.get('metrics', {}).get('cpu_usage')\n",
    "        if cpu_usage is not None:\n",
    "            total_cpu += cpu_usage\n",
    "            valid_log_count += 1\n",
    "    \n",
    "    avg_cpu_usage = total_cpu / valid_log_count if valid_log_count > 0 else 0\n",
    "    \n",
    "    return {\n",
    "        'priority_counts': priority_counts,\n",
    "        'event_types': list(event_types),\n",
    "        'average_cpu_usage': avg_cpu_usage\n",
    "    }"
   ]
  },
  {
   "cell_type": "code",
   "execution_count": null,
   "metadata": {
    "vscode": {
     "languageId": "plaintext"
    }
   },
   "outputs": [],
   "source": []
  }
 ],
 "metadata": {
  "language_info": {
   "name": "python"
  }
 },
 "nbformat": 4,
 "nbformat_minor": 2
}
