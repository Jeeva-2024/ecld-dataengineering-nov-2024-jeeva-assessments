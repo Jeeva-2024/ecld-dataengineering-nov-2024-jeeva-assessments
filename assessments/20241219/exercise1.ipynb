{
 "cells": [
  {
   "cell_type": "code",
   "execution_count": null,
   "metadata": {
    "vscode": {
     "languageId": "plaintext"
    }
   },
   "outputs": [],
   "source": [
    "import json\n",
    "from itertools import chain"
   ]
  },
  {
   "cell_type": "code",
   "execution_count": null,
   "metadata": {
    "vscode": {
     "languageId": "plaintext"
    }
   },
   "outputs": [],
   "source": [
    "json_file=json.load(open('sample-dataset-1.json'))\n",
    "json_file"
   ]
  },
  {
   "cell_type": "code",
   "execution_count": null,
   "metadata": {
    "vscode": {
     "languageId": "plaintext"
    }
   },
   "outputs": [],
   "source": [
    "res = len([ele for ele in json_file if isinstance(ele, dict)])\n",
    "print(\"The Dictionary count : \" + str(res))"
   ]
  },
  {
   "cell_type": "code",
   "execution_count": null,
   "metadata": {
    "vscode": {
     "languageId": "plaintext"
    }
   },
   "outputs": [],
   "source": [
    "for dic in json_file:\n",
    "    for key in dic:\n",
    "        dict=print(dic[key])"
   ]
  },
  {
   "cell_type": "code",
   "execution_count": null,
   "metadata": {
    "vscode": {
     "languageId": "plaintext"
    }
   },
   "outputs": [],
   "source": [
    "type(json_file)"
   ]
  },
  {
   "cell_type": "code",
   "execution_count": null,
   "metadata": {
    "vscode": {
     "languageId": "plaintext"
    }
   },
   "outputs": [],
   "source": [
    "#1.Create a function that filters log entries \n",
    "def filter_log_entry():\n",
    "    #All high-priority warnings using filter() and lambda\n",
    "    result = list(filter(lambda priority: (priority == 'high'),json_file ))\n",
    "    #Servers with CPU usage above 80% using list comprehension\n",
    "    filtered_list = [x for x in json_file if 'cpu_usage'>80]\n",
    "\n",
    "    return result  "
   ]
  },
  {
   "cell_type": "code",
   "execution_count": null,
   "metadata": {
    "vscode": {
     "languageId": "plaintext"
    }
   },
   "outputs": [],
   "source": [
    "#2.Create a function that extracts unique server IDs using map() and set()\n",
    "def unique_mapping():\n",
    "    unique_values = list(set(json_file))\n",
    "    return unique_values"
   ]
  },
  {
   "cell_type": "code",
   "execution_count": null,
   "metadata": {
    "vscode": {
     "languageId": "plaintext"
    }
   },
   "outputs": [],
   "source": [
    "#3.Create a function that sorts the log entries\n",
    "def sort_log_entries():\n",
    "    #Timestamp (primary key)\n",
    "    json_file.sort(key=lambda item:item['timestamp'], reverse=True)\n",
    "    #Priority (secondary key) Using the sorted() function with a lambda key\n",
    "    json_file.sort(key=lambda item:item['priority'], reverse=True)"
   ]
  },
  {
   "cell_type": "code",
   "execution_count": null,
   "metadata": {
    "vscode": {
     "languageId": "plaintext"
    }
   },
   "outputs": [],
   "source": [
    "#4.Create a function that generates a summary report\n",
    "def summary_report():\n",
    "    #Count of events by priority\n",
    "    count_of_events = [k['priority'] for k in json_file if k.get('priority')]\n",
    "    len(count_of_events)"
   ]
  },
  {
   "cell_type": "code",
   "execution_count": null,
   "metadata": {
    "vscode": {
     "languageId": "plaintext"
    }
   },
   "outputs": [],
   "source": [
    "#List of unique event types\n",
    "def unique_key(json_file):\n",
    "    res = list(set(val for dic in json_file for val in dic.values()))\n",
    "    print(\"The unique values in list are : \" + str(res))"
   ]
  },
  {
   "cell_type": "code",
   "execution_count": null,
   "metadata": {
    "vscode": {
     "languageId": "plaintext"
    }
   },
   "outputs": [],
   "source": [
    "#Average CPU usage across all servers\n",
    "def dict_mean(dict_list):\n",
    "    mean_dict = {}\n",
    "    for key in dict_list[0].keys():\n",
    "        mean_dict[key] = sum(d[key] for d in dict_list) / len(dict_list)\n",
    "    return mean_dict"
   ]
  }
 ],
 "metadata": {
  "language_info": {
   "name": "python"
  }
 },
 "nbformat": 4,
 "nbformat_minor": 2
}
