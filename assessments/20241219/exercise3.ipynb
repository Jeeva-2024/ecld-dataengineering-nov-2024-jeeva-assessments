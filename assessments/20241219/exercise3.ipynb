{
 "cells": [
  {
   "cell_type": "code",
   "execution_count": null,
   "metadata": {
    "vscode": {
     "languageId": "plaintext"
    }
   },
   "outputs": [],
   "source": [
    "import json\n",
    "from itertools import groupby"
   ]
  },
  {
   "cell_type": "code",
   "execution_count": null,
   "metadata": {
    "vscode": {
     "languageId": "plaintext"
    }
   },
   "outputs": [],
   "source": [
    "pip install flatten_json"
   ]
  },
  {
   "cell_type": "code",
   "execution_count": null,
   "metadata": {
    "vscode": {
     "languageId": "plaintext"
    }
   },
   "outputs": [],
   "source": [
    "from flatten_json import flatten"
   ]
  },
  {
   "cell_type": "code",
   "execution_count": null,
   "metadata": {
    "vscode": {
     "languageId": "plaintext"
    }
   },
   "outputs": [],
   "source": [
    "json_file=json.load(open('sample-dataset-3 - Copy.json'))\n",
    "json_file"
   ]
  },
  {
   "cell_type": "code",
   "execution_count": null,
   "metadata": {
    "vscode": {
     "languageId": "plaintext"
    }
   },
   "outputs": [],
   "source": [
    "#1.Create a function that transforms raw transaction data\n",
    "# Flatten nested JSON structures using lambda functions\n",
    "flat_json = flatten(json_file)\n",
    "print(flat_json)\n"
   ]
  },
  {
   "cell_type": "code",
   "execution_count": null,
   "metadata": {
    "vscode": {
     "languageId": "plaintext"
    }
   },
   "outputs": [],
   "source": [
    "#Extract unique product categories using map() and set()\n",
    "unique_categories = set(map(lambda x: x['Category'],'product_id'))"
   ]
  },
  {
   "cell_type": "code",
   "execution_count": null,
   "metadata": {
    "vscode": {
     "languageId": "plaintext"
    }
   },
   "outputs": [],
   "source": [
    "#2. Create analysis functions\n",
    " \n",
    "#Group transactions by region and calculate regional sales\n",
    "grouped_dict = {}\n",
    "for key, value in json_file.items():\n",
    "    if value not in grouped_dict:\n",
    "        grouped_dict[value] = [key]\n",
    "    else:\n",
    "        grouped_dict[value].append(key)"
   ]
  },
  {
   "cell_type": "code",
   "execution_count": null,
   "metadata": {
    "vscode": {
     "languageId": "plaintext"
    }
   },
   "outputs": [],
   "source": [
    "#Find top-selling products using sorted() with custom key\n",
    "res = {i: [j[0] for j in j] for i, j in groupby(sorted(json_file.items(), key = lambda x : x[1]), lambda x : x[1])}"
   ]
  },
  {
   "cell_type": "code",
   "execution_count": null,
   "metadata": {
    "vscode": {
     "languageId": "plaintext"
    }
   },
   "outputs": [],
   "source": [
    "#Calculate average transaction value by payment method\n",
    "average_value = json_file.groupby('Payment_Method')['Amount'].mean()"
   ]
  },
  {
   "cell_type": "code",
   "execution_count": null,
   "metadata": {
    "vscode": {
     "languageId": "plaintext"
    }
   },
   "outputs": [],
   "source": [
    "#3.Create a report generation function \n",
    "\n",
    "#Filters completed transactions using filter()\n",
    "completed_transactions = list(filter(lambda x: x['Status'] == 'Completed', json_file))"
   ]
  },
  {
   "cell_type": "code",
   "execution_count": null,
   "metadata": {
    "vscode": {
     "languageId": "plaintext"
    }
   },
   "outputs": [],
   "source": [
    "#Sorts data by multiple criteria using lambda\n",
    "sorted_data = sorted(json_file, key=lambda x: (x['category'],x['quantity']))"
   ]
  },
  {
   "cell_type": "code",
   "execution_count": null,
   "metadata": {
    "vscode": {
     "languageId": "plaintext"
    }
   },
   "outputs": [],
   "source": [
    "#Generates summary statistics for different time periods\n",
    "import statistics\n",
    "mode_x = statistics.mode(i['x'] for i in json_file)\n",
    "print(mode_x)"
   ]
  }
 ],
 "metadata": {
  "language_info": {
   "name": "python"
  }
 },
 "nbformat": 4,
 "nbformat_minor": 2
}
