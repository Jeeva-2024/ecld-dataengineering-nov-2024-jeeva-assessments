{
 "cells": [
  {
   "cell_type": "code",
   "execution_count": null,
   "metadata": {
    "vscode": {
     "languageId": "plaintext"
    }
   },
   "outputs": [],
   "source": [
    "import json\n",
    "from itertools import groupby"
   ]
  },
  {
   "cell_type": "code",
   "execution_count": null,
   "metadata": {
    "vscode": {
     "languageId": "plaintext"
    }
   },
   "outputs": [],
   "source": [
    "pip install flatten_json"
   ]
  },
  {
   "cell_type": "code",
   "execution_count": null,
   "metadata": {
    "vscode": {
     "languageId": "plaintext"
    }
   },
   "outputs": [],
   "source": [
    "from flatten_json import flatten"
   ]
  },
  {
   "cell_type": "code",
   "execution_count": null,
   "metadata": {
    "vscode": {
     "languageId": "plaintext"
    }
   },
   "outputs": [],
   "source": [
    "json_file=json.load(open('sample-dataset-3 - Copy.json'))\n",
    "json_file"
   ]
  },
  {
   "cell_type": "code",
   "execution_count": null,
   "metadata": {
    "vscode": {
     "languageId": "plaintext"
    }
   },
   "outputs": [],
   "source": [
    "#Create a function that transforms raw transaction data\n"
   ]
  },
  {
   "cell_type": "code",
   "execution_count": null,
   "metadata": {
    "vscode": {
     "languageId": "plaintext"
    }
   },
   "outputs": [],
   "source": [
    "from functools import reduce\n",
    "\n",
    "def transform_transaction_data(transactions):\n",
    "    # Flatten each transaction and calculate the total transaction value\n",
    "    def flatten_transaction(transaction):\n",
    "        total_value = sum(item['price'] * item['quantity'] for item in transaction['items'])\n",
    "        return {\n",
    "        'transaction_id': transaction['transaction_id'],\n",
    "        'timestamp': transaction['timestamp'],\n",
    "        'customer_id': transaction['customer']['id'],\n",
    "        'customer_region': transaction['customer']['region'],\n",
    "        'payment_method': transaction['payment_method'],\n",
    "        'status': transaction['status'],\n",
    "        'total_value': total_value,\n",
    "        'items': [{'product_id': item['product_id'], 'quantity': item['quantity']} for item in transaction['items']],  # Ensure items is correctly structured\n",
    "        'categories': [item['category'] for item in transaction['items']]\n",
    "    }\n",
    "\n",
    "\n",
    "    # Apply flattening to all transactions\n",
    "    return list(map(lambda x: flatten_transaction(x), transactions))"
   ]
  },
  {
   "cell_type": "code",
   "execution_count": null,
   "metadata": {
    "vscode": {
     "languageId": "plaintext"
    }
   },
   "outputs": [],
   "source": [
    "#Extract unique product categories using map() and set()\n",
    "def extract_unique_categories(transactions):\n",
    "    # Use map() to extract categories from each transaction and flatten into a single list\n",
    "    all_categories = list(reduce(lambda x, y: x + y, map(lambda x: x['categories'], transactions)))\n",
    "    return set(all_categories)"
   ]
  },
  {
   "cell_type": "code",
   "execution_count": null,
   "metadata": {
    "vscode": {
     "languageId": "plaintext"
    }
   },
   "outputs": [],
   "source": [
    "#Create analysis functions\n",
    "from collections import defaultdict\n",
    "\n",
    "def regional_sales(transactions):\n",
    "    region_sales = defaultdict(float)\n",
    "    \n",
    "    for transaction in transactions:\n",
    "        region_sales[transaction['customer_region']] += transaction['total_value']\n",
    "    \n",
    "    return region_sales"
   ]
  },
  {
   "cell_type": "code",
   "execution_count": null,
   "metadata": {
    "vscode": {
     "languageId": "plaintext"
    }
   },
   "outputs": [],
   "source": [
    "def top_selling_products(transactions):\n",
    "    product_sales = defaultdict(int)\n",
    "    \n",
    "    for transaction in transactions:\n",
    "        # Ensure that 'items' is a list of dictionaries with 'product_id' and 'quantity'\n",
    "        for item in transaction['items']:\n",
    "            product_sales[item['product_id']] += item['quantity']\n",
    "    \n",
    "    # Sort products by total quantity sold in descending order\n",
    "    return sorted(product_sales.items(), key=lambda x: x[1], reverse=True)"
   ]
  },
  {
   "cell_type": "code",
   "execution_count": null,
   "metadata": {
    "vscode": {
     "languageId": "plaintext"
    }
   },
   "outputs": [],
   "source": [
    "def average_transaction_value_by_payment(transactions):\n",
    "    payment_method_sales = defaultdict(list)\n",
    "    \n",
    "    # Group transactions by payment method and store total values\n",
    "    for transaction in transactions:\n",
    "        payment_method_sales[transaction['payment_method']].append(transaction['total_value'])\n",
    "    \n",
    "    # Calculate the average for each payment method\n",
    "    return {method: sum(values) / len(values) for method, values in payment_method_sales.items()}"
   ]
  },
  {
   "cell_type": "code",
   "execution_count": null,
   "metadata": {
    "vscode": {
     "languageId": "plaintext"
    }
   },
   "outputs": [],
   "source": [
    "# Create a report generation function\n"
   ]
  },
  {
   "cell_type": "code",
   "execution_count": null,
   "metadata": {
    "vscode": {
     "languageId": "plaintext"
    }
   },
   "outputs": [],
   "source": [
    "def filter_completed_transactions(transactions):\n",
    "    return list(filter(lambda x: x['status'] == 'completed', transactions))"
   ]
  },
  {
   "cell_type": "code",
   "execution_count": null,
   "metadata": {
    "vscode": {
     "languageId": "plaintext"
    }
   },
   "outputs": [],
   "source": [
    "def sort_transactions(transactions):\n",
    "    return sorted(transactions, key=lambda x: (x['customer_region'], x['total_value']), reverse=True)"
   ]
  },
  {
   "cell_type": "code",
   "execution_count": null,
   "metadata": {
    "vscode": {
     "languageId": "plaintext"
    }
   },
   "outputs": [],
   "source": [
    "from collections import defaultdict\n",
    "from datetime import datetime\n",
    "\n",
    "def generate_monthly_report(transactions):\n",
    "    # Group transactions by month and year\n",
    "    monthly_sales = defaultdict(float)\n",
    "    \n",
    "    for transaction in transactions:\n",
    "        # Extract month and year from timestamp\n",
    "        date = datetime.strptime(transaction['timestamp'], '%Y-%m-%dT%H:%M:%S')\n",
    "        month_year = date.strftime('%Y-%m')\n",
    "        \n",
    "        # Aggregate sales by month-year\n",
    "        monthly_sales[month_year] += transaction['total_value']\n",
    "    \n",
    "    return monthly_sales"
   ]
  },
  {
   "cell_type": "code",
   "execution_count": null,
   "metadata": {
    "vscode": {
     "languageId": "plaintext"
    }
   },
   "outputs": [],
   "source": []
  },
  {
   "cell_type": "code",
   "execution_count": null,
   "metadata": {
    "vscode": {
     "languageId": "plaintext"
    }
   },
   "outputs": [],
   "source": []
  }
 ],
 "metadata": {
  "language_info": {
   "name": "python"
  }
 },
 "nbformat": 4,
 "nbformat_minor": 2
}
